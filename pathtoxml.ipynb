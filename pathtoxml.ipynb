{
 "cells": [
  {
   "cell_type": "code",
   "execution_count": 4,
   "id": "db31f191",
   "metadata": {},
   "outputs": [],
   "source": [
    "from glob import glob\n",
    "from PIL import Image\n",
    "import xml.etree.ElementTree as ET\n",
    "import random"
   ]
  },
  {
   "cell_type": "code",
   "execution_count": 5,
   "id": "91a08678",
   "metadata": {},
   "outputs": [],
   "source": [
    "path = glob(\"test_dataset/*.xml\")"
   ]
  },
  {
   "cell_type": "code",
   "execution_count": 6,
   "id": "0be851b2",
   "metadata": {},
   "outputs": [],
   "source": [
    "path = r\"xml\"\n",
    "xml = glob(path+\"/*.xml\")\n",
    "picFile = glob(\"test_dataset/*.jpg\")\n",
    "xmlFile = glob(\"test_dataset/*.xml\")"
   ]
  },
  {
   "cell_type": "code",
   "execution_count": 7,
   "id": "7c22e596",
   "metadata": {},
   "outputs": [],
   "source": [
    "nList = []\n",
    "for i in xmlFile:\n",
    "    #get the names of the two files\n",
    "    xmlName = i.split(\"\\\\\")\n",
    "    xmlName = xmlName[1]\n",
    "    nList.append(xmlName)"
   ]
  },
  {
   "cell_type": "markdown",
   "id": "9d63688f",
   "metadata": {},
   "source": [
    "# Correcting the width and height in the xml files"
   ]
  },
  {
   "cell_type": "code",
   "execution_count": 27,
   "id": "94ab36cd",
   "metadata": {},
   "outputs": [],
   "source": [
    "for i in xmlFile:\n",
    "    #get the names of the two files\n",
    "    xmlName = i.split(\"\\\\\")\n",
    "    xmlName = xmlName[1][:-4]\n",
    "    jpgName = \"dataset/\"+ xmlName+\".jpg\"\n",
    "    \n",
    "    #overwrite the width and height in the xml file to the with/height of its correlating JPG\n",
    "    im = Image.open(jpgName)\n",
    "    w,h = im.size\n",
    "    tree = ET.parse(i)\n",
    "    tree.find('.//width').text = str(w)\n",
    "    tree.find('.//height').text = str(h)\n",
    "    \n",
    "    tree.write(i)"
   ]
  },
  {
   "cell_type": "code",
   "execution_count": 28,
   "id": "266ca37a",
   "metadata": {},
   "outputs": [],
   "source": [
    "a = []\n",
    "b = []\n",
    "for ele in xml:\n",
    "    tree = ET.parse(ele)\n",
    "    root = tree.getroot()\n",
    "    for table in root.findall('object/name'):\n",
    "        if(table.text == \"table\"):\n",
    "            a.append(table.text)\n",
    "        else:\n",
    "            b.append(table.text)"
   ]
  },
  {
   "cell_type": "markdown",
   "id": "c9d30207",
   "metadata": {},
   "source": [
    "# Deviding the dataset into train and val"
   ]
  },
  {
   "cell_type": "code",
   "execution_count": 5,
   "id": "e58aaefc",
   "metadata": {},
   "outputs": [],
   "source": [
    "procent = int(len(xmlFile)*0.2)\n",
    "random.shuffle(xmlFile)\n",
    "train_data = xmlFile[:-procent]\n",
    "val_data = xmlFile[-procent:]"
   ]
  },
  {
   "cell_type": "code",
   "execution_count": 6,
   "id": "404703cf",
   "metadata": {},
   "outputs": [
    {
     "data": {
      "text/plain": [
       "['xml\\\\1020.xml',\n",
       " 'xml\\\\931.xml',\n",
       " 'xml\\\\629.xml',\n",
       " 'xml\\\\1037.xml',\n",
       " 'xml\\\\953.xml',\n",
       " 'xml\\\\333.xml',\n",
       " 'xml\\\\615.xml',\n",
       " 'xml\\\\906.xml',\n",
       " 'xml\\\\885.xml',\n",
       " 'xml\\\\1047.xml',\n",
       " 'xml\\\\868.xml',\n",
       " 'xml\\\\567.xml',\n",
       " 'xml\\\\683.xml',\n",
       " 'xml\\\\601.xml',\n",
       " 'xml\\\\811.xml',\n",
       " 'xml\\\\831.xml',\n",
       " 'xml\\\\951.xml',\n",
       " 'xml\\\\679.xml',\n",
       " 'xml\\\\1082.xml',\n",
       " 'xml\\\\958.xml',\n",
       " 'xml\\\\861.xml',\n",
       " 'xml\\\\501.xml',\n",
       " 'xml\\\\104.xml',\n",
       " 'xml\\\\670.xml',\n",
       " 'xml\\\\633.xml',\n",
       " 'xml\\\\987.xml',\n",
       " 'xml\\\\1074.xml',\n",
       " 'xml\\\\764.xml',\n",
       " 'xml\\\\895.xml',\n",
       " 'xml\\\\809.xml',\n",
       " 'xml\\\\971.xml',\n",
       " 'xml\\\\789.xml',\n",
       " 'xml\\\\51.xml',\n",
       " 'xml\\\\618.xml',\n",
       " 'xml\\\\75.xml',\n",
       " 'xml\\\\509.xml',\n",
       " 'xml\\\\788.xml',\n",
       " 'xml\\\\794.xml',\n",
       " 'xml\\\\1010.xml',\n",
       " 'xml\\\\292.xml',\n",
       " 'xml\\\\550.xml',\n",
       " 'xml\\\\87.xml',\n",
       " 'xml\\\\321.xml',\n",
       " 'xml\\\\865.xml',\n",
       " 'xml\\\\1024.xml',\n",
       " 'xml\\\\842.xml',\n",
       " 'xml\\\\1002.xml',\n",
       " 'xml\\\\1038.xml',\n",
       " 'xml\\\\123.xml',\n",
       " 'xml\\\\1014.xml',\n",
       " 'xml\\\\38.xml',\n",
       " 'xml\\\\839.xml',\n",
       " 'xml\\\\942.xml',\n",
       " 'xml\\\\561.xml',\n",
       " 'xml\\\\281.xml',\n",
       " 'xml\\\\115.xml',\n",
       " 'xml\\\\1029.xml',\n",
       " 'xml\\\\862.xml',\n",
       " 'xml\\\\149.xml',\n",
       " 'xml\\\\13.xml',\n",
       " 'xml\\\\1006.xml',\n",
       " 'xml\\\\270.xml',\n",
       " 'xml\\\\74.xml',\n",
       " 'xml\\\\758.xml',\n",
       " 'xml\\\\941.xml',\n",
       " 'xml\\\\890.xml',\n",
       " 'xml\\\\694.xml',\n",
       " 'xml\\\\508.xml',\n",
       " 'xml\\\\1043.xml',\n",
       " 'xml\\\\88.xml',\n",
       " 'xml\\\\541.xml',\n",
       " 'xml\\\\884.xml',\n",
       " 'xml\\\\580.xml',\n",
       " 'xml\\\\294.xml',\n",
       " 'xml\\\\606.xml',\n",
       " 'xml\\\\675.xml',\n",
       " 'xml\\\\1008.xml',\n",
       " 'xml\\\\555.xml',\n",
       " 'xml\\\\806.xml',\n",
       " 'xml\\\\631.xml',\n",
       " 'xml\\\\164.xml',\n",
       " 'xml\\\\766.xml',\n",
       " 'xml\\\\712.xml',\n",
       " 'xml\\\\8.xml',\n",
       " 'xml\\\\943.xml',\n",
       " 'xml\\\\898.xml',\n",
       " 'xml\\\\82.xml',\n",
       " 'xml\\\\35.xml',\n",
       " 'xml\\\\930.xml',\n",
       " 'xml\\\\63.xml',\n",
       " 'xml\\\\310.xml',\n",
       " 'xml\\\\902.xml',\n",
       " 'xml\\\\726.xml',\n",
       " 'xml\\\\64.xml',\n",
       " 'xml\\\\9.xml',\n",
       " 'xml\\\\640.xml',\n",
       " 'xml\\\\513.xml',\n",
       " 'xml\\\\1005.xml',\n",
       " 'xml\\\\700.xml',\n",
       " 'xml\\\\12.xml',\n",
       " 'xml\\\\97.xml',\n",
       " 'xml\\\\591.xml',\n",
       " 'xml\\\\775.xml',\n",
       " 'xml\\\\957.xml',\n",
       " 'xml\\\\157.xml',\n",
       " 'xml\\\\872.xml',\n",
       " 'xml\\\\793.xml',\n",
       " 'xml\\\\193.xml',\n",
       " 'xml\\\\1075.xml',\n",
       " 'xml\\\\309.xml',\n",
       " 'xml\\\\130.xml',\n",
       " 'xml\\\\168.xml',\n",
       " 'xml\\\\111.xml',\n",
       " 'xml\\\\952.xml',\n",
       " 'xml\\\\677.xml',\n",
       " 'xml\\\\20.xml',\n",
       " 'xml\\\\169.xml',\n",
       " 'xml\\\\749.xml',\n",
       " 'xml\\\\174.xml',\n",
       " 'xml\\\\656.xml',\n",
       " 'xml\\\\924.xml',\n",
       " 'xml\\\\1012.xml',\n",
       " 'xml\\\\628.xml',\n",
       " 'xml\\\\554.xml',\n",
       " 'xml\\\\873.xml',\n",
       " 'xml\\\\753.xml',\n",
       " 'xml\\\\825.xml',\n",
       " 'xml\\\\716.xml',\n",
       " 'xml\\\\925.xml',\n",
       " 'xml\\\\1030.xml',\n",
       " 'xml\\\\738.xml',\n",
       " 'xml\\\\923.xml',\n",
       " 'xml\\\\646.xml',\n",
       " 'xml\\\\542.xml',\n",
       " 'xml\\\\182.xml',\n",
       " 'xml\\\\844.xml',\n",
       " 'xml\\\\141.xml',\n",
       " 'xml\\\\858.xml',\n",
       " 'xml\\\\904.xml',\n",
       " 'xml\\\\290.xml',\n",
       " 'xml\\\\969.xml',\n",
       " 'xml\\\\651.xml',\n",
       " 'xml\\\\798.xml',\n",
       " 'xml\\\\71.xml',\n",
       " 'xml\\\\611.xml',\n",
       " 'xml\\\\41.xml',\n",
       " 'xml\\\\1039.xml',\n",
       " 'xml\\\\579.xml',\n",
       " 'xml\\\\807.xml',\n",
       " 'xml\\\\972.xml',\n",
       " 'xml\\\\985.xml',\n",
       " 'xml\\\\39.xml',\n",
       " 'xml\\\\729.xml',\n",
       " 'xml\\\\27.xml',\n",
       " 'xml\\\\841.xml',\n",
       " 'xml\\\\1060.xml',\n",
       " 'xml\\\\10.xml',\n",
       " 'xml\\\\1087.xml',\n",
       " 'xml\\\\910.xml']"
      ]
     },
     "execution_count": 6,
     "metadata": {},
     "output_type": "execute_result"
    }
   ],
   "source": [
    "val_data"
   ]
  },
  {
   "cell_type": "code",
   "execution_count": 7,
   "id": "936bb5b3",
   "metadata": {},
   "outputs": [],
   "source": [
    "#We dont know what this is...\n",
    "train_list = []\n",
    "val_list = []\n",
    "for i in range(len(train_data)):\n",
    "    temp = train_data[i][4:-4]\n",
    "    newTemp = glob(\"xml/\"+temp+\".xml\")\n",
    "    train_list.append(newTemp[0])\n",
    "    \n",
    "for i in range(len(val_data)):\n",
    "    temp = val_data[i][4:-4]\n",
    "    newTemp = glob(\"xml/\"+temp+\".xml\")\n",
    "    val_list.append(newTemp[0])    "
   ]
  },
  {
   "cell_type": "markdown",
   "id": "184fc1fa",
   "metadata": {},
   "source": [
    "# Makes two files train_file and val_file in Slavearbejde "
   ]
  },
  {
   "cell_type": "code",
   "execution_count": 9,
   "id": "db6b9209",
   "metadata": {},
   "outputs": [
    {
     "name": "stdout",
     "output_type": "stream",
     "text": [
      "Done\n",
      "Done\n"
     ]
    }
   ],
   "source": [
    "with open(r'train_files.txt', 'w') as fp:\n",
    "    for item in train_list:\n",
    "        # write each item on a new line\n",
    "        fp.write(\"%s\\n\" % item)\n",
    "    print('Done')\n",
    "    \n",
    "with open(r'val_files.txt', 'w') as fp:\n",
    "    for item in val_list:\n",
    "        # write each item on a new line\n",
    "        fp.write(\"%s\\n\" % item)\n",
    "    print('Done')"
   ]
  },
  {
   "cell_type": "code",
   "execution_count": 16,
   "id": "f2d69c9f",
   "metadata": {},
   "outputs": [
    {
     "name": "stdout",
     "output_type": "stream",
     "text": [
      "Done\n"
     ]
    }
   ],
   "source": [
    "with open(r'new_test.txt', 'w') as fp:\n",
    "    for item in nList:\n",
    "        # write each item on a new line\n",
    "        fp.write(\"test_dataset/%s\\n\" % item)\n",
    "    print('Done')"
   ]
  },
  {
   "cell_type": "code",
   "execution_count": 14,
   "id": "ea7cb295",
   "metadata": {},
   "outputs": [
    {
     "data": {
      "text/plain": [
       "['1.xml',\n",
       " '103.xml',\n",
       " '108.xml',\n",
       " '126.xml',\n",
       " '134.xml',\n",
       " '139.xml',\n",
       " '143.xml',\n",
       " '16.xml',\n",
       " '175.xml',\n",
       " '182.xml',\n",
       " '186.xml',\n",
       " '19.xml',\n",
       " '191.xml',\n",
       " '20.xml',\n",
       " '21.xml',\n",
       " '23.xml',\n",
       " '24.xml',\n",
       " '26.xml',\n",
       " '27.xml',\n",
       " '28.xml',\n",
       " '3.xml',\n",
       " '33.xml',\n",
       " '34.xml',\n",
       " '35.xml',\n",
       " '39.xml',\n",
       " '41.xml',\n",
       " '43.xml',\n",
       " '47.xml',\n",
       " '51.xml',\n",
       " '55.xml',\n",
       " '56.xml',\n",
       " '59.xml',\n",
       " '70.xml',\n",
       " '75.xml',\n",
       " '79.xml',\n",
       " '80.xml',\n",
       " '81.xml',\n",
       " '82.xml',\n",
       " '83.xml',\n",
       " '84.xml',\n",
       " '86.xml',\n",
       " '87.xml',\n",
       " '89.xml',\n",
       " '91.xml',\n",
       " '92.xml',\n",
       " '93.xml']"
      ]
     },
     "execution_count": 14,
     "metadata": {},
     "output_type": "execute_result"
    }
   ],
   "source": [
    "nList"
   ]
  },
  {
   "cell_type": "code",
   "execution_count": null,
   "id": "2c8c9284",
   "metadata": {},
   "outputs": [],
   "source": []
  }
 ],
 "metadata": {
  "kernelspec": {
   "display_name": "Python 3 (ipykernel)",
   "language": "python",
   "name": "python3"
  },
  "language_info": {
   "codemirror_mode": {
    "name": "ipython",
    "version": 3
   },
   "file_extension": ".py",
   "mimetype": "text/x-python",
   "name": "python",
   "nbconvert_exporter": "python",
   "pygments_lexer": "ipython3",
   "version": "3.9.13"
  }
 },
 "nbformat": 4,
 "nbformat_minor": 5
}
